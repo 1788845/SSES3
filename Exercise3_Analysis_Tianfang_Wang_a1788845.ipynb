{
 "cells": [
  {
   "cell_type": "markdown",
   "metadata": {},
   "source": [
    "# Exercise 3 analysis"
   ]
  },
  {
   "cell_type": "markdown",
   "metadata": {},
   "source": [
    "Tianfang Wang a1788845"
   ]
  },
  {
   "cell_type": "markdown",
   "metadata": {},
   "source": [
    "## Loading modules"
   ]
  },
  {
   "cell_type": "code",
   "execution_count": 81,
   "metadata": {},
   "outputs": [],
   "source": [
    "import os\n",
    "import re\n",
    "# Specify git executable file for GitPython in Jupyter Notebook (In IDE, it can still work without this line.)\n",
    "os.environ[\"GIT_PYTHON_REFRESH\"] = \"quiet\"\n",
    "import git\n",
    "from git import RemoteProgress\n",
    "from git import Repo\n"
   ]
  },
  {
   "cell_type": "markdown",
   "metadata": {},
   "source": [
    "## Case 1 CVE-2015-5174"
   ]
  },
  {
   "cell_type": "code",
   "execution_count": 82,
   "metadata": {},
   "outputs": [],
   "source": [
    "repo1 = Repo(\"~/Documents/tomcat80\")\n",
    "fixing_commit_1 = \"d0e4c578f6\"\n"
   ]
  },
  {
   "cell_type": "markdown",
   "metadata": {},
   "source": [
    "## Q(a) What was the message and title of the fixing commit? Was there any mention of fixing a bug or vulnerability? "
   ]
  },
  {
   "cell_type": "code",
   "execution_count": 83,
   "metadata": {},
   "outputs": [
    {
     "name": "stdout",
     "output_type": "stream",
     "text": [
      "Title: Refactor to remove the circular dependency between o.a.catalina and\n",
      "o.a.naming\n",
      "\n",
      "git-svn-id: https://svn.apache.org/repos/asf/tomcat/trunk@1239048 13f79535-47bb-0310-9956-ffa450edef68\n",
      "\n"
     ]
    }
   ],
   "source": [
    "res1 = repo1.git.log(-1, '--pretty=%B', fixing_commit_1)\n",
    "\n",
    "print(\"Title:\",res1)"
   ]
  },
  {
   "cell_type": "markdown",
   "metadata": {},
   "source": [
    "## Q(b) How many total files were affected in the fixing commit? "
   ]
  },
  {
   "cell_type": "code",
   "execution_count": 84,
   "metadata": {},
   "outputs": [
    {
     "name": "stdout",
     "output_type": "stream",
     "text": [
      "Number of affected files: 10\n"
     ]
    }
   ],
   "source": [
    "res2 = repo1.git.diff('--name-only', fixing_commit_1, fixing_commit_1 + '^').splitlines()\n",
    "print(\"Number of affected files: %d\"%len(res2))"
   ]
  },
  {
   "cell_type": "markdown",
   "metadata": {},
   "source": [
    "## Q(c) How many total directories were affected in the fixing commit? For example, if a file path is: abc/def/File.java, then its directory is abc/def."
   ]
  },
  {
   "cell_type": "code",
   "execution_count": 85,
   "metadata": {},
   "outputs": [
    {
     "name": "stdout",
     "output_type": "stream",
     "text": [
      "Number of affected directories: 6\n"
     ]
    }
   ],
   "source": [
    "res3 = repo1.git.diff('--dirstat', fixing_commit_1, fixing_commit_1 + '^').splitlines()\n",
    "print(\"Number of affected directories: %d\"%len(res3))"
   ]
  },
  {
   "cell_type": "markdown",
   "metadata": {},
   "source": [
    "## Q(d) How many total lines of code (including comments and blank lines) were deleted? "
   ]
  },
  {
   "cell_type": "code",
   "execution_count": 86,
   "metadata": {},
   "outputs": [
    {
     "name": "stdout",
     "output_type": "stream",
     "text": [
      "Number of deleted lines (including comments and blank lines): 71\n"
     ]
    }
   ],
   "source": [
    "res4 = repo1.git.show(fixing_commit_1).splitlines()\n",
    "res4 = [line for line in res4 if re.compile('^-$|^-[^-]').match(line)]\n",
    "print(\"Number of deleted lines (including comments and blank lines): %d\"%len(res4))"
   ]
  },
  {
   "cell_type": "markdown",
   "metadata": {},
   "source": [
    "## Q(e) How many total lines of code (including comments and blank lines) were added?"
   ]
  },
  {
   "cell_type": "code",
   "execution_count": 87,
   "metadata": {},
   "outputs": [
    {
     "name": "stdout",
     "output_type": "stream",
     "text": [
      "Number of added lines (including comments and blank lines): 157\n"
     ]
    }
   ],
   "source": [
    "res5 = repo1.git.show(fixing_commit_1).splitlines()\n",
    "res5 = [line for line in res5 if re.compile('^\\+$|^\\+[^\\+]').match(line)]\n",
    "print(\"Number of added lines (including comments and blank lines): %d\"%len(res5))"
   ]
  },
  {
   "cell_type": "markdown",
   "metadata": {},
   "source": [
    "## Q(f) How many total lines of code (excluding comments and blank lines) were deleted? "
   ]
  },
  {
   "cell_type": "code",
   "execution_count": 88,
   "metadata": {},
   "outputs": [
    {
     "name": "stdout",
     "output_type": "stream",
     "text": [
      "Number of added lines (excluding comments and blank lines): 49\n"
     ]
    }
   ],
   "source": [
    "res6 = repo1.git.show('--ignore-blank-lines', fixing_commit_1).splitlines()\n",
    "res6 = [line for line in res6 if re.compile('^-[^-]').match(line)]\n",
    "res6 = [line for line in res6 if not re.compile('^[-|]\\s*/').match(line)]\n",
    "res6 = [line for line in res6 if not re.compile('^[-|]\\s*\\*').match(line)]\n",
    "print(\"Number of added lines (excluding comments and blank lines): %d\"%len(res6))"
   ]
  },
  {
   "cell_type": "markdown",
   "metadata": {},
   "source": [
    "## Q(g) How many total lines of code (excluding comments and blank lines) were added? "
   ]
  },
  {
   "cell_type": "code",
   "execution_count": 89,
   "metadata": {},
   "outputs": [
    {
     "name": "stdout",
     "output_type": "stream",
     "text": [
      "Number of added lines (excluding comments and blank lines): 69\n"
     ]
    }
   ],
   "source": [
    "res7 = repo1.git.show('--ignore-blank-lines', fixing_commit_1).splitlines()\n",
    "res7 = [line for line in res7 if re.compile('^\\+[^\\+]').match(line)]\n",
    "res7 = [line for line in res7 if not re.compile('^[\\+|]\\s*/').match(line)]\n",
    "res7 = [line for line in res7 if not re.compile('^[\\+|]\\s*\\*').match(line)]\n",
    "print(\"Number of added lines (excluding comments and blank lines): %d\"%len(res7))"
   ]
  },
  {
   "cell_type": "markdown",
   "metadata": {},
   "source": [
    "## Q(h) How many days were between the current fixing commit and the previous commit of each affected file?"
   ]
  },
  {
   "cell_type": "code",
   "execution_count": 90,
   "metadata": {},
   "outputs": [
    {
     "name": "stdout",
     "output_type": "stream",
     "text": [
      " For java/org/apache/catalina/core/ApplicationContext.java , the days between the current fixing commit and the previous commit is 79.5 days\n",
      " For java/org/apache/catalina/servlets/WebdavServlet.java , the days between the current fixing commit and the previous commit is 12.8 days\n",
      " For java/org/apache/catalina/ssi/SSIServletExternalResolver.java , the days between the current fixing commit and the previous commit is 101.6 days\n",
      " For java/org/apache/catalina/ssi/SSIServletRequestUtil.java , the days between the current fixing commit and the previous commit is 101.6 days\n",
      " For java/org/apache/catalina/util/RequestUtil.java , the days between the current fixing commit and the previous commit is 12.8 days\n",
      " For java/org/apache/naming/resources/FileDirContext.java , the days between the current fixing commit and the previous commit is 33.6 days\n",
      " java/org/apache/tomcat/util/http/RequestUtil.java:  N/A This file doesn't have previous commit\n",
      " For res/checkstyle/org-import-control.xml , the days between the current fixing commit and the previous commit is 45.5 days\n",
      " For test/org/apache/catalina/util/TestRequestUtil.java , the days between the current fixing commit and the previous commit is 101.6 days\n",
      " test/org/apache/tomcat/util/http/TestRequestUtil.java:  N/A This file doesn't have previous commit\n"
     ]
    }
   ],
   "source": [
    "for file in repo1.git.diff('--name-only', fixing_commit_1, fixing_commit_1 + '^').splitlines():\n",
    "    res8 = repo1.git.log(-2, '--pretty=%ct', file).splitlines();\n",
    "    if len(res8) == 2:\n",
    "        print(\" For %s , the days between the current fixing commit and the previous commit is %.1f days\"%(file, (int(res8[0])-int(res8[1]))/86400))\n",
    "    else:\n",
    "        print(\" %s:  N/A This file doesn't have previous commit\"%file)"
   ]
  },
  {
   "cell_type": "markdown",
   "metadata": {},
   "source": [
    "## Q(i) How many time has each affected file of the current fixing commit been modified in the past since their creation  "
   ]
  },
  {
   "cell_type": "code",
   "execution_count": 91,
   "metadata": {},
   "outputs": [
    {
     "name": "stdout",
     "output_type": "stream",
     "text": [
      "  java/org/apache/catalina/core/ApplicationContext.java has been modified 71 times\n",
      "  java/org/apache/catalina/servlets/WebdavServlet.java has been modified 44 times\n",
      "  java/org/apache/catalina/ssi/SSIServletExternalResolver.java has been modified 20 times\n",
      "  java/org/apache/catalina/ssi/SSIServletRequestUtil.java has been modified 9 times\n",
      "  java/org/apache/catalina/util/RequestUtil.java has been modified 25 times\n",
      "  java/org/apache/naming/resources/FileDirContext.java has been modified 40 times\n",
      "  java/org/apache/tomcat/util/http/RequestUtil.java has been modified 1 times\n",
      "  res/checkstyle/org-import-control.xml has been modified 8 times\n",
      "  test/org/apache/catalina/util/TestRequestUtil.java has been modified 9 times\n",
      "  test/org/apache/tomcat/util/http/TestRequestUtil.java has been modified 9 times\n"
     ]
    }
   ],
   "source": [
    "for file in repo1.git.diff('--name-only', fixing_commit_1, fixing_commit_1 + '^').splitlines():\n",
    "    res9 = repo1.git.log('--follow', '--pretty=oneline', file).splitlines();\n",
    "    print(\"  %s has been modified %d times\"%(file, len(res9)))"
   ]
  },
  {
   "cell_type": "markdown",
   "metadata": {},
   "source": [
    "## Q(j) Which developers have modified each affected file since its creation?"
   ]
  },
  {
   "cell_type": "code",
   "execution_count": 92,
   "metadata": {},
   "outputs": [
    {
     "name": "stdout",
     "output_type": "stream",
     "text": [
      "  java/org/apache/catalina/core/ApplicationContext.java has been modified by following developers:\n",
      "    Remy Maucherat\n",
      "    Mark Thomas\n",
      "    Konstantin Kolinko\n",
      "    Filip Hanik\n",
      "    Mladen Turk\n",
      "    Rainer Jung\n",
      "  java/org/apache/catalina/servlets/WebdavServlet.java has been modified by following developers:\n",
      "    Tim Whittington\n",
      "    Remy Maucherat\n",
      "    Mark Thomas\n",
      "    Konstantin Kolinko\n",
      "    Mladen Turk\n",
      "    Rainer Jung\n",
      "  java/org/apache/catalina/ssi/SSIServletExternalResolver.java has been modified by following developers:\n",
      "    Konstantin Kolinko\n",
      "    Mark Thomas\n",
      "    Remy Maucherat\n",
      "    Mladen Turk\n",
      "  java/org/apache/catalina/ssi/SSIServletRequestUtil.java has been modified by following developers:\n",
      "    Mark Thomas\n",
      "    Remy Maucherat\n",
      "    Mladen Turk\n",
      "  java/org/apache/catalina/util/RequestUtil.java has been modified by following developers:\n",
      "    Remy Maucherat\n",
      "    Mark Thomas\n",
      "    Konstantin Kolinko\n",
      "    Filip Hanik\n",
      "    Mladen Turk\n",
      "    Rainer Jung\n",
      "  java/org/apache/naming/resources/FileDirContext.java has been modified by following developers:\n",
      "    Remy Maucherat\n",
      "    Timothy A. Funk\n",
      "    Mark Thomas\n",
      "    Konstantin Kolinko\n",
      "    Mladen Turk\n",
      "  java/org/apache/tomcat/util/http/RequestUtil.java has been modified by following developers:\n",
      "    Mark Thomas\n",
      "  res/checkstyle/org-import-control.xml has been modified by following developers:\n",
      "    Mark Thomas\n",
      "  test/org/apache/catalina/util/TestRequestUtil.java has been modified by following developers:\n",
      "    Konstantin Kolinko\n",
      "    Filip Hanik\n",
      "    Mark Thomas\n",
      "    Remy Maucherat\n",
      "  test/org/apache/tomcat/util/http/TestRequestUtil.java has been modified by following developers:\n",
      "    Konstantin Kolinko\n",
      "    Mark Thomas\n",
      "    Remy Maucherat\n",
      "    Mladen Turk\n"
     ]
    }
   ],
   "source": [
    "for file in repo1.git.diff('--name-only',fixing_commit_1, fixing_commit_1 + '^').splitlines():\n",
    "    print(\"  %s has been modified by following developers:\"%file)\n",
    "    res10 = repo1.git.log('--follow', '--pretty=%aN', file).splitlines()\n",
    "    for dev in set(res10):\n",
    "        print(\"    %s\"%dev)"
   ]
  },
  {
   "cell_type": "markdown",
   "metadata": {},
   "source": [
    "## Q(k) For each developer identified, how many commits have each of them submitted? From your observation, are the involving developers experienced (with many commits) or new ones (with few commits) or both? "
   ]
  },
  {
   "cell_type": "code",
   "execution_count": 93,
   "metadata": {
    "scrolled": false
   },
   "outputs": [
    {
     "name": "stdout",
     "output_type": "stream",
     "text": [
      " Tim Whittington made 22 commits\n",
      " Remy Maucherat made 434 commits\n",
      " Timothy A. Funk made 61 commits\n",
      " Mark Thomas made 4729 commits\n",
      " Konstantin Kolinko made 675 commits\n",
      " Filip Hanik made 1000 commits\n",
      " Mladen Turk made 124 commits\n",
      " Rainer Jung made 280 commits\n"
     ]
    }
   ],
   "source": [
    "devs = []\n",
    "for file in repo1.git.diff('--name-only',fixing_commit_1, fixing_commit_1 + '^').splitlines():\n",
    "    devs += repo1.git.log('--follow', '--pretty=%aN', file).splitlines()\n",
    "res11 = list(set(devs))\n",
    "log = repo1.git.log('--pretty=%aN')\n",
    "for dev in res11:\n",
    "    print(\" %s made %d commits\"%(dev, len(re.findall(dev,log))))"
   ]
  },
  {
   "cell_type": "markdown",
   "metadata": {},
   "source": [
    "## Case 2 CVE-2018-1325"
   ]
  },
  {
   "cell_type": "code",
   "execution_count": 94,
   "metadata": {},
   "outputs": [],
   "source": [
    "repo2 = Repo(\"../Documents/wicket-jquery-ui\")\n",
    "fixing_commit_2 = \"a7b9f7961e\""
   ]
  },
  {
   "cell_type": "markdown",
   "metadata": {},
   "source": [
    "## Q(a) What was the message and title of the fixing commit? Was there any mention of fixing a bug or vulnerability? "
   ]
  },
  {
   "cell_type": "code",
   "execution_count": 95,
   "metadata": {},
   "outputs": [
    {
     "name": "stdout",
     "output_type": "stream",
     "text": [
      "Title: Added WysiwygEditor\n",
      "\n"
     ]
    }
   ],
   "source": [
    "res1 = repo2.git.log(-1, '--pretty=%B', fixing_commit_2)\n",
    "\n",
    "print(\"Title:\",res1)"
   ]
  },
  {
   "cell_type": "markdown",
   "metadata": {},
   "source": [
    "## Q(b) How many total files were affected in the fixing commit? "
   ]
  },
  {
   "cell_type": "code",
   "execution_count": 96,
   "metadata": {},
   "outputs": [
    {
     "name": "stdout",
     "output_type": "stream",
     "text": [
      "Number of affected files: 25\n"
     ]
    }
   ],
   "source": [
    "res2 = repo2.git.diff('--name-only', fixing_commit_2, fixing_commit_2 + '^').splitlines()\n",
    "print(\"Number of affected files: %d\"%len(res2))"
   ]
  },
  {
   "cell_type": "markdown",
   "metadata": {},
   "source": [
    "## Q(c) How many total directories were affected in the fixing commit? For example, if a file path is: abc/def/File.java, then its directory is abc/def."
   ]
  },
  {
   "cell_type": "code",
   "execution_count": 97,
   "metadata": {},
   "outputs": [
    {
     "name": "stdout",
     "output_type": "stream",
     "text": [
      "Number of affected directories: 4\n"
     ]
    }
   ],
   "source": [
    "res3 = repo2.git.diff('--dirstat', fixing_commit_2, fixing_commit_2 + '^').splitlines()\n",
    "print(\"Number of affected directories: %d\"%len(res3))"
   ]
  },
  {
   "cell_type": "markdown",
   "metadata": {},
   "source": [
    "## Q(d) How many total lines of code (including comments and blank lines) were deleted? "
   ]
  },
  {
   "cell_type": "code",
   "execution_count": 98,
   "metadata": {},
   "outputs": [
    {
     "name": "stdout",
     "output_type": "stream",
     "text": [
      "Number of deleted lines (including comments and blank lines): 2\n"
     ]
    }
   ],
   "source": [
    "res4 = repo2.git.show(fixing_commit_2).splitlines()\n",
    "res4 = [line for line in res4 if re.compile('^-$|^-[^-]').match(line)]\n",
    "print(\"Number of deleted lines (including comments and blank lines): %d\"%len(res4))"
   ]
  },
  {
   "cell_type": "markdown",
   "metadata": {},
   "source": [
    "## Q(e) How many total lines of code (including comments and blank lines) were added?"
   ]
  },
  {
   "cell_type": "code",
   "execution_count": 99,
   "metadata": {},
   "outputs": [
    {
     "name": "stdout",
     "output_type": "stream",
     "text": [
      "Number of added lines (including comments and blank lines): 4478\n"
     ]
    }
   ],
   "source": [
    "res5 = repo2.git.show(fixing_commit_2).splitlines()\n",
    "res5 = [line for line in res5 if re.compile('^\\+$|^\\+[^\\+]').match(line)]\n",
    "print(\"Number of added lines (including comments and blank lines): %d\"%len(res5))"
   ]
  },
  {
   "cell_type": "markdown",
   "metadata": {},
   "source": [
    "## Q(f) How many total lines of code (excluding comments and blank lines) were deleted? "
   ]
  },
  {
   "cell_type": "code",
   "execution_count": 100,
   "metadata": {},
   "outputs": [
    {
     "name": "stdout",
     "output_type": "stream",
     "text": [
      "Number of added lines (excluding comments and blank lines): 0\n"
     ]
    }
   ],
   "source": [
    "res6 = repo2.git.show('--ignore-blank-lines', fixing_commit_2).splitlines()\n",
    "res6 = [line for line in res6 if re.compile('^-[^-]').match(line)]\n",
    "res6 = [line for line in res6 if not re.compile('^[-|]\\s*/').match(line)]\n",
    "res6 = [line for line in res6 if not re.compile('^[-|]\\s*\\*').match(line)]\n",
    "print(\"Number of added lines (excluding comments and blank lines): %d\"%len(res6))"
   ]
  },
  {
   "cell_type": "markdown",
   "metadata": {},
   "source": [
    "## Q(g) How many total lines of code (excluding comments and blank lines) were added? "
   ]
  },
  {
   "cell_type": "code",
   "execution_count": 101,
   "metadata": {},
   "outputs": [
    {
     "name": "stdout",
     "output_type": "stream",
     "text": [
      "Number of added lines (excluding comments and blank lines): 3515\n"
     ]
    }
   ],
   "source": [
    "res7 = repo2.git.show('--ignore-blank-lines', fixing_commit_2).splitlines()\n",
    "res7 = [line for line in res7 if re.compile('^\\+[^\\+]').match(line)]\n",
    "res7 = [line for line in res7 if not re.compile('^[\\+|]\\s*/').match(line)]\n",
    "res7 = [line for line in res7 if not re.compile('^[\\+|]\\s*\\*').match(line)]\n",
    "print(\"Number of added lines (excluding comments and blank lines): %d\"%len(res7))"
   ]
  },
  {
   "cell_type": "markdown",
   "metadata": {},
   "source": [
    "## Q(h) How many days were between the current fixing commit and the previous commit of each affected file?"
   ]
  },
  {
   "cell_type": "code",
   "execution_count": 102,
   "metadata": {
    "scrolled": true
   },
   "outputs": [
    {
     "name": "stdout",
     "output_type": "stream",
     "text": [
      " wicket-jquery-ui-plugins/src/main/java/com/googlecode/wicket/jquery/ui/plugins/wysiwyg/WysiwygBehavior.java:  N/A This file doesn't have previous commit\n",
      " wicket-jquery-ui-plugins/src/main/java/com/googlecode/wicket/jquery/ui/plugins/wysiwyg/WysiwygEditor.html:  N/A This file doesn't have previous commit\n",
      " wicket-jquery-ui-plugins/src/main/java/com/googlecode/wicket/jquery/ui/plugins/wysiwyg/WysiwygEditor.java:  N/A This file doesn't have previous commit\n",
      " wicket-jquery-ui-plugins/src/main/java/com/googlecode/wicket/jquery/ui/plugins/wysiwyg/toolbar/DefaultWysiwygToolbar.html:  N/A This file doesn't have previous commit\n",
      " wicket-jquery-ui-plugins/src/main/java/com/googlecode/wicket/jquery/ui/plugins/wysiwyg/toolbar/DefaultWysiwygToolbar.java:  N/A This file doesn't have previous commit\n",
      " wicket-jquery-ui-plugins/src/main/java/com/googlecode/wicket/jquery/ui/plugins/wysiwyg/toolbar/IWysiwygToolbar.java:  N/A This file doesn't have previous commit\n",
      " wicket-jquery-ui-plugins/src/main/resources/com/googlecode/wicket/jquery/ui/plugins/wysiwyg/css/bootstrap-combined.no-icons.min.css:  N/A This file doesn't have previous commit\n",
      " wicket-jquery-ui-plugins/src/main/resources/com/googlecode/wicket/jquery/ui/plugins/wysiwyg/css/bootstrap-responsive.min.css:  N/A This file doesn't have previous commit\n",
      " wicket-jquery-ui-plugins/src/main/resources/com/googlecode/wicket/jquery/ui/plugins/wysiwyg/css/editor.css:  N/A This file doesn't have previous commit\n",
      " wicket-jquery-ui-plugins/src/main/resources/com/googlecode/wicket/jquery/ui/plugins/wysiwyg/css/font-awesome.css:  N/A This file doesn't have previous commit\n",
      " wicket-jquery-ui-plugins/src/main/resources/com/googlecode/wicket/jquery/ui/plugins/wysiwyg/font/fontawesome-webfont.eot:  N/A This file doesn't have previous commit\n",
      " wicket-jquery-ui-plugins/src/main/resources/com/googlecode/wicket/jquery/ui/plugins/wysiwyg/font/fontawesome-webfont.ttf:  N/A This file doesn't have previous commit\n",
      " wicket-jquery-ui-plugins/src/main/resources/com/googlecode/wicket/jquery/ui/plugins/wysiwyg/font/fontawesome-webfont.woff:  N/A This file doesn't have previous commit\n",
      " wicket-jquery-ui-plugins/src/main/resources/com/googlecode/wicket/jquery/ui/plugins/wysiwyg/js/bootstrap-wysiwyg.js:  N/A This file doesn't have previous commit\n",
      " wicket-jquery-ui-plugins/src/main/resources/com/googlecode/wicket/jquery/ui/plugins/wysiwyg/js/bootstrap.min.js:  N/A This file doesn't have previous commit\n",
      " wicket-jquery-ui-plugins/src/main/resources/com/googlecode/wicket/jquery/ui/plugins/wysiwyg/js/jquery.hotkeys.js:  N/A This file doesn't have previous commit\n",
      " wicket-jquery-ui-plugins/src/main/resources/com/googlecode/wicket/jquery/ui/plugins/wysiwyg/js/prettify.js:  N/A This file doesn't have previous commit\n",
      " For wicket-jquery-ui-samples/src/main/java/com/googlecode/wicket/jquery/ui/samples/SampleApplication.java , the days between the current fixing commit and the previous commit is 0.9 days\n",
      " For wicket-jquery-ui-samples/src/main/java/com/googlecode/wicket/jquery/ui/samples/TemplatePage.html , the days between the current fixing commit and the previous commit is 13.9 days\n",
      " wicket-jquery-ui-samples/src/main/java/com/googlecode/wicket/jquery/ui/samples/pages/plugins/wysiwyg/WysiwygEditorPage.html:  N/A This file doesn't have previous commit\n",
      " wicket-jquery-ui-samples/src/main/java/com/googlecode/wicket/jquery/ui/samples/pages/plugins/wysiwyg/WysiwygEditorPage.java:  N/A This file doesn't have previous commit\n",
      " For wicket-jquery-ui-samples/src/main/resources/com/googlecode/wicket/jquery/ui/samples/SampleApplication.properties , the days between the current fixing commit and the previous commit is 1.0 days\n",
      " wicket-jquery-ui-samples/src/main/resources/com/googlecode/wicket/jquery/ui/samples/pages/plugins/wysiwyg/WysiwygEditorPage.text:  N/A This file doesn't have previous commit\n",
      " For wicket-jquery-ui/src/main/java/com/googlecode/wicket/jquery/ui/widget/menu/ContextMenu.java , the days between the current fixing commit and the previous commit is 0.9 days\n",
      " For wicket-kendo-ui/src/main/java/com/googlecode/wicket/jquery/ui/kendo/datatable/DataTable.java , the days between the current fixing commit and the previous commit is 0.9 days\n"
     ]
    }
   ],
   "source": [
    "for file in repo2.git.diff('--name-only', fixing_commit_2, fixing_commit_2 + '^').splitlines():\n",
    "    #print(file)\n",
    "    res8 = repo2.git.log(-2, '--pretty=%ct', file).splitlines();\n",
    "    if len(res8) == 2:\n",
    "        print(\" For %s , the days between the current fixing commit and the previous commit is %.1f days\"%(file, (int(res8[0])-int(res8[1]))/86400))\n",
    "    else:\n",
    "        print(\" %s:  N/A This file doesn't have previous commit\"%file)"
   ]
  },
  {
   "cell_type": "markdown",
   "metadata": {},
   "source": [
    "## Q(i) How many time has each affected file of the current fixing commit been modified in the past since their creation  "
   ]
  },
  {
   "cell_type": "code",
   "execution_count": 103,
   "metadata": {},
   "outputs": [
    {
     "name": "stdout",
     "output_type": "stream",
     "text": [
      "  wicket-jquery-ui-plugins/src/main/java/com/googlecode/wicket/jquery/ui/plugins/wysiwyg/WysiwygBehavior.java has been modified 1 times\n",
      "  wicket-jquery-ui-plugins/src/main/java/com/googlecode/wicket/jquery/ui/plugins/wysiwyg/WysiwygEditor.html has been modified 4 times\n",
      "  wicket-jquery-ui-plugins/src/main/java/com/googlecode/wicket/jquery/ui/plugins/wysiwyg/WysiwygEditor.java has been modified 1 times\n",
      "  wicket-jquery-ui-plugins/src/main/java/com/googlecode/wicket/jquery/ui/plugins/wysiwyg/toolbar/DefaultWysiwygToolbar.html has been modified 1 times\n",
      "  wicket-jquery-ui-plugins/src/main/java/com/googlecode/wicket/jquery/ui/plugins/wysiwyg/toolbar/DefaultWysiwygToolbar.java has been modified 5 times\n",
      "  wicket-jquery-ui-plugins/src/main/java/com/googlecode/wicket/jquery/ui/plugins/wysiwyg/toolbar/IWysiwygToolbar.java has been modified 7 times\n",
      "  wicket-jquery-ui-plugins/src/main/resources/com/googlecode/wicket/jquery/ui/plugins/wysiwyg/css/bootstrap-combined.no-icons.min.css has been modified 1 times\n",
      "  wicket-jquery-ui-plugins/src/main/resources/com/googlecode/wicket/jquery/ui/plugins/wysiwyg/css/bootstrap-responsive.min.css has been modified 1 times\n",
      "  wicket-jquery-ui-plugins/src/main/resources/com/googlecode/wicket/jquery/ui/plugins/wysiwyg/css/editor.css has been modified 5 times\n",
      "  wicket-jquery-ui-plugins/src/main/resources/com/googlecode/wicket/jquery/ui/plugins/wysiwyg/css/font-awesome.css has been modified 1 times\n",
      "  wicket-jquery-ui-plugins/src/main/resources/com/googlecode/wicket/jquery/ui/plugins/wysiwyg/font/fontawesome-webfont.eot has been modified 1 times\n",
      "  wicket-jquery-ui-plugins/src/main/resources/com/googlecode/wicket/jquery/ui/plugins/wysiwyg/font/fontawesome-webfont.ttf has been modified 1 times\n",
      "  wicket-jquery-ui-plugins/src/main/resources/com/googlecode/wicket/jquery/ui/plugins/wysiwyg/font/fontawesome-webfont.woff has been modified 1 times\n",
      "  wicket-jquery-ui-plugins/src/main/resources/com/googlecode/wicket/jquery/ui/plugins/wysiwyg/js/bootstrap-wysiwyg.js has been modified 1 times\n",
      "  wicket-jquery-ui-plugins/src/main/resources/com/googlecode/wicket/jquery/ui/plugins/wysiwyg/js/bootstrap.min.js has been modified 1 times\n",
      "  wicket-jquery-ui-plugins/src/main/resources/com/googlecode/wicket/jquery/ui/plugins/wysiwyg/js/jquery.hotkeys.js has been modified 1 times\n",
      "  wicket-jquery-ui-plugins/src/main/resources/com/googlecode/wicket/jquery/ui/plugins/wysiwyg/js/prettify.js has been modified 1 times\n",
      "  wicket-jquery-ui-samples/src/main/java/com/googlecode/wicket/jquery/ui/samples/SampleApplication.java has been modified 27 times\n",
      "  wicket-jquery-ui-samples/src/main/java/com/googlecode/wicket/jquery/ui/samples/TemplatePage.html has been modified 28 times\n",
      "  wicket-jquery-ui-samples/src/main/java/com/googlecode/wicket/jquery/ui/samples/pages/plugins/wysiwyg/WysiwygEditorPage.html has been modified 1 times\n",
      "  wicket-jquery-ui-samples/src/main/java/com/googlecode/wicket/jquery/ui/samples/pages/plugins/wysiwyg/WysiwygEditorPage.java has been modified 1 times\n",
      "  wicket-jquery-ui-samples/src/main/resources/com/googlecode/wicket/jquery/ui/samples/SampleApplication.properties has been modified 23 times\n",
      "  wicket-jquery-ui-samples/src/main/resources/com/googlecode/wicket/jquery/ui/samples/pages/plugins/wysiwyg/WysiwygEditorPage.text has been modified 1 times\n",
      "  wicket-jquery-ui/src/main/java/com/googlecode/wicket/jquery/ui/widget/menu/ContextMenu.java has been modified 3 times\n",
      "  wicket-kendo-ui/src/main/java/com/googlecode/wicket/jquery/ui/kendo/datatable/DataTable.java has been modified 4 times\n"
     ]
    }
   ],
   "source": [
    "for file in repo2.git.diff('--name-only', fixing_commit_2, fixing_commit_2 + '^').splitlines():\n",
    "    res9 = repo2.git.log('--follow', '--pretty=oneline', file).splitlines();\n",
    "    print(\"  %s has been modified %d times\"%(file, len(res9)))"
   ]
  },
  {
   "cell_type": "markdown",
   "metadata": {},
   "source": [
    "## Q(j) Which developers have modified each affected file since its creation?"
   ]
  },
  {
   "cell_type": "code",
   "execution_count": 104,
   "metadata": {},
   "outputs": [
    {
     "name": "stdout",
     "output_type": "stream",
     "text": [
      "  wicket-jquery-ui-plugins/src/main/java/com/googlecode/wicket/jquery/ui/plugins/wysiwyg/WysiwygBehavior.java has been modified by following developers:\n",
      "    Sebastien\n",
      "  wicket-jquery-ui-plugins/src/main/java/com/googlecode/wicket/jquery/ui/plugins/wysiwyg/WysiwygEditor.html has been modified by following developers:\n",
      "    Sebastien\n",
      "    Sebastien Briquet\n",
      "  wicket-jquery-ui-plugins/src/main/java/com/googlecode/wicket/jquery/ui/plugins/wysiwyg/WysiwygEditor.java has been modified by following developers:\n",
      "    Sebastien\n",
      "  wicket-jquery-ui-plugins/src/main/java/com/googlecode/wicket/jquery/ui/plugins/wysiwyg/toolbar/DefaultWysiwygToolbar.html has been modified by following developers:\n",
      "    Sebastien\n",
      "  wicket-jquery-ui-plugins/src/main/java/com/googlecode/wicket/jquery/ui/plugins/wysiwyg/toolbar/DefaultWysiwygToolbar.java has been modified by following developers:\n",
      "    Sebastien\n",
      "    Sebastien Briquet\n",
      "  wicket-jquery-ui-plugins/src/main/java/com/googlecode/wicket/jquery/ui/plugins/wysiwyg/toolbar/IWysiwygToolbar.java has been modified by following developers:\n",
      "    Sebastien\n",
      "    Sebastien Briquet\n",
      "  wicket-jquery-ui-plugins/src/main/resources/com/googlecode/wicket/jquery/ui/plugins/wysiwyg/css/bootstrap-combined.no-icons.min.css has been modified by following developers:\n",
      "    Sebastien\n",
      "  wicket-jquery-ui-plugins/src/main/resources/com/googlecode/wicket/jquery/ui/plugins/wysiwyg/css/bootstrap-responsive.min.css has been modified by following developers:\n",
      "    Sebastien\n",
      "  wicket-jquery-ui-plugins/src/main/resources/com/googlecode/wicket/jquery/ui/plugins/wysiwyg/css/editor.css has been modified by following developers:\n",
      "    Sebastien\n",
      "    Sebastien Briquet\n",
      "  wicket-jquery-ui-plugins/src/main/resources/com/googlecode/wicket/jquery/ui/plugins/wysiwyg/css/font-awesome.css has been modified by following developers:\n",
      "    Sebastien\n",
      "  wicket-jquery-ui-plugins/src/main/resources/com/googlecode/wicket/jquery/ui/plugins/wysiwyg/font/fontawesome-webfont.eot has been modified by following developers:\n",
      "    Sebastien\n",
      "  wicket-jquery-ui-plugins/src/main/resources/com/googlecode/wicket/jquery/ui/plugins/wysiwyg/font/fontawesome-webfont.ttf has been modified by following developers:\n",
      "    Sebastien\n",
      "  wicket-jquery-ui-plugins/src/main/resources/com/googlecode/wicket/jquery/ui/plugins/wysiwyg/font/fontawesome-webfont.woff has been modified by following developers:\n",
      "    Sebastien\n",
      "  wicket-jquery-ui-plugins/src/main/resources/com/googlecode/wicket/jquery/ui/plugins/wysiwyg/js/bootstrap-wysiwyg.js has been modified by following developers:\n",
      "    Sebastien\n",
      "  wicket-jquery-ui-plugins/src/main/resources/com/googlecode/wicket/jquery/ui/plugins/wysiwyg/js/bootstrap.min.js has been modified by following developers:\n",
      "    Sebastien\n",
      "  wicket-jquery-ui-plugins/src/main/resources/com/googlecode/wicket/jquery/ui/plugins/wysiwyg/js/jquery.hotkeys.js has been modified by following developers:\n",
      "    Sebastien\n",
      "  wicket-jquery-ui-plugins/src/main/resources/com/googlecode/wicket/jquery/ui/plugins/wysiwyg/js/prettify.js has been modified by following developers:\n",
      "    Sebastien\n",
      "  wicket-jquery-ui-samples/src/main/java/com/googlecode/wicket/jquery/ui/samples/SampleApplication.java has been modified by following developers:\n",
      "    Sebastien\n",
      "    Sebastien Briquet\n",
      "  wicket-jquery-ui-samples/src/main/java/com/googlecode/wicket/jquery/ui/samples/TemplatePage.html has been modified by following developers:\n",
      "    Sebastien\n",
      "    Sebastien Briquet\n",
      "  wicket-jquery-ui-samples/src/main/java/com/googlecode/wicket/jquery/ui/samples/pages/plugins/wysiwyg/WysiwygEditorPage.html has been modified by following developers:\n",
      "    Sebastien\n",
      "  wicket-jquery-ui-samples/src/main/java/com/googlecode/wicket/jquery/ui/samples/pages/plugins/wysiwyg/WysiwygEditorPage.java has been modified by following developers:\n",
      "    Sebastien\n",
      "  wicket-jquery-ui-samples/src/main/resources/com/googlecode/wicket/jquery/ui/samples/SampleApplication.properties has been modified by following developers:\n",
      "    Sebastien\n",
      "    Sebastien Briquet\n",
      "  wicket-jquery-ui-samples/src/main/resources/com/googlecode/wicket/jquery/ui/samples/pages/plugins/wysiwyg/WysiwygEditorPage.text has been modified by following developers:\n",
      "    Sebastien\n",
      "  wicket-jquery-ui/src/main/java/com/googlecode/wicket/jquery/ui/widget/menu/ContextMenu.java has been modified by following developers:\n",
      "    Sebastien\n",
      "  wicket-kendo-ui/src/main/java/com/googlecode/wicket/jquery/ui/kendo/datatable/DataTable.java has been modified by following developers:\n",
      "    Sebastien\n",
      "    Sebastien Briquet\n"
     ]
    }
   ],
   "source": [
    "for file in repo2.git.diff('--name-only',fixing_commit_2, fixing_commit_2 + '^').splitlines():\n",
    "    print(\"  %s has been modified by following developers:\"%file)\n",
    "    res10 = repo2.git.log('--follow', '--pretty=%aN', file).splitlines()\n",
    "    for dev in set(res10):\n",
    "        print(\"    %s\"%dev)"
   ]
  },
  {
   "cell_type": "markdown",
   "metadata": {},
   "source": [
    "## Q(k) For each developer identified, how many commits have each of them submitted? From your observation, are the involving developers experienced (with many commits) or new ones (with few commits) or both? "
   ]
  },
  {
   "cell_type": "code",
   "execution_count": 105,
   "metadata": {},
   "outputs": [
    {
     "name": "stdout",
     "output_type": "stream",
     "text": [
      " Sebastien made 186 commits\n",
      " Sebastien Briquet made 175 commits\n"
     ]
    }
   ],
   "source": [
    "devs = []\n",
    "for file in repo2.git.diff('--name-only',fixing_commit_2, fixing_commit_2 + '^').splitlines():\n",
    "    devs += repo2.git.log('--follow', '--pretty=%aN', file).splitlines()\n",
    "res11 = list(set(devs))\n",
    "log = repo2.git.log('--pretty=%aN')\n",
    "for dev in res11:\n",
    "    print(\" %s made %d commits\"%(dev, len(re.findall(dev,log))))"
   ]
  },
  {
   "cell_type": "markdown",
   "metadata": {},
   "source": [
    "## Case 3 CVE-2013-7251"
   ]
  },
  {
   "cell_type": "code",
   "execution_count": 106,
   "metadata": {},
   "outputs": [],
   "source": [
    "repo3 = Repo(\"~/Documents/projectforge-webapp\")\n",
    "fixing_commit_3 = \"96ca7e5ac0\""
   ]
  },
  {
   "cell_type": "markdown",
   "metadata": {},
   "source": [
    "## Q(a) What was the message and title of the fixing commit? Was there any mention of fixing a bug or vulnerability? "
   ]
  },
  {
   "cell_type": "code",
   "execution_count": 107,
   "metadata": {},
   "outputs": [
    {
     "name": "stdout",
     "output_type": "stream",
     "text": [
      "Title: PF-396: Disable autocompletion in all forms by default.\n",
      "\n",
      "git-svn-id: https://svn.micromata.de/svn/projectforge/webapp/trunk@14054 be79319d-3443-0410-9b0a-b0c1b946f33b\n",
      "\n"
     ]
    }
   ],
   "source": [
    "res1 = repo3.git.log(-1, '--pretty=%B', fixing_commit_3)\n",
    "\n",
    "print(\"Title:\",res1)"
   ]
  },
  {
   "cell_type": "markdown",
   "metadata": {},
   "source": [
    "## Q(b) How many total files were affected in the fixing commit? "
   ]
  },
  {
   "cell_type": "code",
   "execution_count": 108,
   "metadata": {},
   "outputs": [
    {
     "name": "stdout",
     "output_type": "stream",
     "text": [
      "Number of affected files: 4\n"
     ]
    }
   ],
   "source": [
    "res3 = repo3.git.diff('--name-only', fixing_commit_3, fixing_commit_3 + '^').splitlines()\n",
    "print(\"Number of affected files: %d\"%len(res3))"
   ]
  },
  {
   "cell_type": "markdown",
   "metadata": {},
   "source": [
    "## Q(c) How many total directories were affected in the fixing commit? For example, if a file path is: abc/def/File.java, then its directory is abc/def."
   ]
  },
  {
   "cell_type": "code",
   "execution_count": 109,
   "metadata": {},
   "outputs": [
    {
     "name": "stdout",
     "output_type": "stream",
     "text": [
      "Number of affected directories: 3\n"
     ]
    }
   ],
   "source": [
    "res3 = repo3.git.diff('--dirstat', fixing_commit_3, fixing_commit_3 + '^').splitlines()\n",
    "print(\"Number of affected directories: %d\"%len(res3))"
   ]
  },
  {
   "cell_type": "markdown",
   "metadata": {},
   "source": [
    "## Q(d) How many total lines of code (including comments and blank lines) were deleted? "
   ]
  },
  {
   "cell_type": "code",
   "execution_count": 110,
   "metadata": {},
   "outputs": [
    {
     "name": "stdout",
     "output_type": "stream",
     "text": [
      "Number of deleted lines (including comments and blank lines): 4\n"
     ]
    }
   ],
   "source": [
    "res4 = repo3.git.show(fixing_commit_3).splitlines()\n",
    "res4 = [line for line in res4 if re.compile('^-$|^-[^-]').match(line)]\n",
    "print(\"Number of deleted lines (including comments and blank lines): %d\"%len(res4))"
   ]
  },
  {
   "cell_type": "markdown",
   "metadata": {},
   "source": [
    "## Q(e) How many total lines of code (including comments and blank lines) were added?"
   ]
  },
  {
   "cell_type": "code",
   "execution_count": 111,
   "metadata": {},
   "outputs": [
    {
     "name": "stdout",
     "output_type": "stream",
     "text": [
      "Number of added lines (including comments and blank lines): 4\n"
     ]
    }
   ],
   "source": [
    "res5 = repo3.git.show(fixing_commit_3).splitlines()\n",
    "res5 = [line for line in res5 if re.compile('^\\+$|^\\+[^\\+]').match(line)]\n",
    "print(\"Number of added lines (including comments and blank lines): %d\"%len(res5))"
   ]
  },
  {
   "cell_type": "markdown",
   "metadata": {},
   "source": [
    "## Q(f) How many total lines of code (excluding comments and blank lines) were deleted? "
   ]
  },
  {
   "cell_type": "code",
   "execution_count": 112,
   "metadata": {},
   "outputs": [
    {
     "name": "stdout",
     "output_type": "stream",
     "text": [
      "Number of added lines (excluding comments and blank lines): 4\n"
     ]
    }
   ],
   "source": [
    "res6 = repo3.git.show('--ignore-blank-lines', fixing_commit_3).splitlines()\n",
    "res6 = [line for line in res6 if re.compile('^-[^-]').match(line)]\n",
    "res6 = [line for line in res6 if not re.compile('^[-|]\\s*/').match(line)]\n",
    "res6 = [line for line in res6 if not re.compile('^[-|]\\s*\\*').match(line)]\n",
    "print(\"Number of added lines (excluding comments and blank lines): %d\"%len(res6))"
   ]
  },
  {
   "cell_type": "markdown",
   "metadata": {},
   "source": [
    "## Q(g) How many total lines of code (excluding comments and blank lines) were added? "
   ]
  },
  {
   "cell_type": "code",
   "execution_count": 113,
   "metadata": {},
   "outputs": [
    {
     "name": "stdout",
     "output_type": "stream",
     "text": [
      "Number of added lines (excluding comments and blank lines): 4\n"
     ]
    }
   ],
   "source": [
    "res7 = repo3.git.show('--ignore-blank-lines', fixing_commit_3).splitlines()\n",
    "res7 = [line for line in res7 if re.compile('^\\+[^\\+]').match(line)]\n",
    "res7 = [line for line in res7 if not re.compile('^[\\+|]\\s*/').match(line)]\n",
    "res7 = [line for line in res7 if not re.compile('^[\\+|]\\s*\\*').match(line)]\n",
    "print(\"Number of added lines (excluding comments and blank lines): %d\"%len(res7))"
   ]
  },
  {
   "cell_type": "markdown",
   "metadata": {},
   "source": [
    "## Q(h) How many days were between the current fixing commit and the previous commit of each affected file?"
   ]
  },
  {
   "cell_type": "code",
   "execution_count": 114,
   "metadata": {},
   "outputs": [
    {
     "name": "stdout",
     "output_type": "stream",
     "text": [
      " For src/main/java/org/projectforge/web/dialog/ModalDialog.html , the days between the current fixing commit and the previous commit is 2.0 days\n",
      " For src/main/java/org/projectforge/web/fibu/RechnungCostEditTablePanel.html , the days between the current fixing commit and the previous commit is 36.0 days\n",
      " For src/main/java/org/projectforge/web/mobile/AbstractMobileEditPage.html , the days between the current fixing commit and the previous commit is 36.0 days\n",
      " For src/main/java/org/projectforge/web/mobile/AbstractMobileListPage.html , the days between the current fixing commit and the previous commit is 36.0 days\n"
     ]
    }
   ],
   "source": [
    "for file in repo3.git.diff('--name-only', fixing_commit_3, fixing_commit_3 + '^').splitlines():\n",
    "    res8 = repo3.git.log(-2, '--pretty=%ct', file).splitlines();\n",
    "    if len(res8) == 2:\n",
    "        print(\" For %s , the days between the current fixing commit and the previous commit is %.1f days\"%(file, (int(res8[0])-int(res8[1]))/86400))\n",
    "    else:\n",
    "        print(\" %s:  N/A This file doesn't have previous commit\"%file)"
   ]
  },
  {
   "cell_type": "markdown",
   "metadata": {},
   "source": [
    "## Q(i) How many time has each affected file of the current fixing commit been modified in the past since their creation  "
   ]
  },
  {
   "cell_type": "code",
   "execution_count": 115,
   "metadata": {},
   "outputs": [
    {
     "name": "stdout",
     "output_type": "stream",
     "text": [
      "  src/main/java/org/projectforge/web/dialog/ModalDialog.html has been modified 8 times\n",
      "  src/main/java/org/projectforge/web/fibu/RechnungCostEditTablePanel.html has been modified 3 times\n",
      "  src/main/java/org/projectforge/web/mobile/AbstractMobileEditPage.html has been modified 11 times\n",
      "  src/main/java/org/projectforge/web/mobile/AbstractMobileListPage.html has been modified 12 times\n"
     ]
    }
   ],
   "source": [
    "for file in repo3.git.diff('--name-only', fixing_commit_3, fixing_commit_3 + '^').splitlines():\n",
    "    res9 = repo3.git.log('--follow', '--pretty=oneline', file).splitlines();\n",
    "    print(\"  %s has been modified %d times\"%(file, len(res9)))"
   ]
  },
  {
   "cell_type": "markdown",
   "metadata": {},
   "source": [
    "## Q(j) Which developers have modified each affected file since its creation?"
   ]
  },
  {
   "cell_type": "code",
   "execution_count": 116,
   "metadata": {},
   "outputs": [
    {
     "name": "stdout",
     "output_type": "stream",
     "text": [
      "  src/main/java/org/projectforge/web/dialog/ModalDialog.html has been modified by following developers:\n",
      "    kai\n",
      "  src/main/java/org/projectforge/web/fibu/RechnungCostEditTablePanel.html has been modified by following developers:\n",
      "    kai\n",
      "  src/main/java/org/projectforge/web/mobile/AbstractMobileEditPage.html has been modified by following developers:\n",
      "    kai\n",
      "  src/main/java/org/projectforge/web/mobile/AbstractMobileListPage.html has been modified by following developers:\n",
      "    kai\n"
     ]
    }
   ],
   "source": [
    "for file in repo3.git.diff('--name-only',fixing_commit_3, fixing_commit_3 + '^').splitlines():\n",
    "    print(\"  %s has been modified by following developers:\"%file)\n",
    "    res10 = repo3.git.log('--follow', '--pretty=%aN', file).splitlines()\n",
    "    for dev in set(res10):\n",
    "        print(\"    %s\"%dev)"
   ]
  },
  {
   "cell_type": "markdown",
   "metadata": {},
   "source": [
    "## Q(k) For each developer identified, how many commits have each of them submitted? From your observation, are the involving developers experienced (with many commits) or new ones (with few commits) or both? "
   ]
  },
  {
   "cell_type": "code",
   "execution_count": 117,
   "metadata": {},
   "outputs": [
    {
     "name": "stdout",
     "output_type": "stream",
     "text": [
      " kai made 4013 commits\n"
     ]
    }
   ],
   "source": [
    "devs = []\n",
    "for file in repo3.git.diff('--name-only',fixing_commit_3, fixing_commit_3 + '^').splitlines():\n",
    "    devs += repo3.git.log('--follow', '--pretty=%aN', file).splitlines()\n",
    "res11 = list(set(devs))\n",
    "log = repo3.git.log('--pretty=%aN')\n",
    "for dev in res11:\n",
    "    print(\" %s made %d commits\"%(dev, len(re.findall(dev,log))))"
   ]
  },
  {
   "cell_type": "code",
   "execution_count": null,
   "metadata": {},
   "outputs": [],
   "source": []
  },
  {
   "cell_type": "code",
   "execution_count": null,
   "metadata": {},
   "outputs": [],
   "source": []
  }
 ],
 "metadata": {
  "kernelspec": {
   "display_name": "Python 3",
   "language": "python",
   "name": "python3"
  },
  "language_info": {
   "codemirror_mode": {
    "name": "ipython",
    "version": 3
   },
   "file_extension": ".py",
   "mimetype": "text/x-python",
   "name": "python",
   "nbconvert_exporter": "python",
   "pygments_lexer": "ipython3",
   "version": "3.7.3"
  }
 },
 "nbformat": 4,
 "nbformat_minor": 1
}
