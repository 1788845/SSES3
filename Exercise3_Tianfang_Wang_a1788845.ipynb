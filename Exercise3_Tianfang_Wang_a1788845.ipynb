{
 "cells": [
  {
   "cell_type": "markdown",
   "metadata": {},
   "source": [
    "# Exercise 3"
   ]
  },
  {
   "cell_type": "markdown",
   "metadata": {},
   "source": [
    "Tianfang Wang  a1788845"
   ]
  },
  {
   "cell_type": "markdown",
   "metadata": {},
   "source": [
    "## Loading modules"
   ]
  },
  {
   "cell_type": "code",
   "execution_count": 40,
   "metadata": {},
   "outputs": [],
   "source": [
    "import os\n",
    "import re\n",
    "import numpy as np\n",
    "# Specify git executable file for GitPython in Jupyter Notebook (In IDE, it can still work without this line.)\n",
    "os.environ[\"GIT_PYTHON_REFRESH\"] = \"quiet\"\n",
    "import git\n",
    "from git import RemoteProgress\n",
    "from git import Repo\n"
   ]
  },
  {
   "cell_type": "markdown",
   "metadata": {},
   "source": [
    "## Find the smallest enclosing scope"
   ]
  },
  {
   "cell_type": "code",
   "execution_count": 41,
   "metadata": {},
   "outputs": [],
   "source": [
    "def sumLines(dLines):\n",
    "    pattern = re.compile('@@')\n",
    "    return [s for s in dLines if pattern.match(s)]\n",
    "\n",
    "def pSummary(summary):\n",
    "    num = summary.split(' ')\n",
    "    dNum = num[1].split(',')\n",
    "    aNum = num[2].split(',')\n",
    "    dStart = -int(dNum[0])\n",
    "    if len(dNum)==1:\n",
    "        dLength = 1\n",
    "    else:\n",
    "        dLength = int(dNum[1])\n",
    "    aStart = int(aNum[0])\n",
    "    if len(aNum)==1:\n",
    "        aLength = 1\n",
    "    else:\n",
    "        aLength = int(aNum[1])\n",
    "    return (dStart, dLength, aStart, aLength)\n",
    "\n",
    "def findScope(dStart, dLength, content):\n",
    "    lineNum = dStart-1\n",
    "    count = 1\n",
    "    while count > 0:\n",
    "        lineNum += 1\n",
    "        if lineNum >= len(content):\n",
    "            lineNum = len(content) - 1\n",
    "            break\n",
    "        line = content[lineNum]\n",
    "        for c in line:\n",
    "            if c=='}':\n",
    "                count -= 1\n",
    "                if count==0:\n",
    "                    break\n",
    "            if c=='{':\n",
    "                count += 1\n",
    "    sEnd = lineNum+1\n",
    "    lineNum = dStart\n",
    "    count = 1\n",
    "    while count > 0:\n",
    "        lineNum -= 1\n",
    "        if lineNum < 0:\n",
    "            lineNum = 0\n",
    "            break\n",
    "        line = content[lineNum]\n",
    "        for c in line[::-1]:\n",
    "            if c=='{':\n",
    "                count -= 1\n",
    "                if count==0:\n",
    "                    break\n",
    "            if c=='}':\n",
    "                count += 1\n",
    "    sStart = lineNum+1\n",
    "    return (sStart, sEnd)"
   ]
  },
  {
   "cell_type": "markdown",
   "metadata": {},
   "source": [
    "## Identify the lastest commit"
   ]
  },
  {
   "cell_type": "code",
   "execution_count": 42,
   "metadata": {},
   "outputs": [],
   "source": [
    "def lastestCommit(blames):\n",
    "    commits = []\n",
    "    times = []\n",
    "    for b in blames:\n",
    "        tmp = b.split()\n",
    "        commits += [tmp[0]]\n",
    "        times += [int(tmp[3])]\n",
    "    return commits[np.argmax(times)]"
   ]
  },
  {
   "cell_type": "markdown",
   "metadata": {},
   "source": [
    "## Find VCC"
   ]
  },
  {
   "cell_type": "code",
   "execution_count": 43,
   "metadata": {},
   "outputs": [],
   "source": [
    "def findVCC(repo_path, fixing_commit):\n",
    "    repo = Repo(repo_path)\n",
    "    HEAD = fixing_commit\n",
    "    PREV = fixing_commit + '^'\n",
    "    files = repo.git.diff('--name-only', PREV, HEAD).splitlines()\n",
    "    commitsFound = []\n",
    "    \n",
    "    for file in files:\n",
    "        try:\n",
    "            content = repo.git.show(PREV+':'+file).splitlines()\n",
    "        except:\n",
    "            continue\n",
    "        dLines = repo.git.diff('-U0',PREV,HEAD,file).splitlines()\n",
    "        summlines = sumLines(dLines)\n",
    "        for line in summlines:\n",
    "            (dStart, dLength, aStart, aLength) = pSummary(line)\n",
    "            if dLength > 0:\n",
    "                blames = repo.git.blame('-w','--date=unix','-e','-f','-L '+str(dStart) + ',' + str(dStart + dLength - 1), PREV, file).splitlines()\n",
    "                commit = lastestCommit(blames)\n",
    "                commitsFound += [commit]*dLength\n",
    "            if aLength > 0:\n",
    "                (sStart, sEnd) = findScope(dStart, dLength, aStart, aLength, content)\n",
    "                blames = repo.git.blame('-w','--date=unix','-e','-f','-L '+str(sStart) + ',' + str(sEnd), PREV, file).splitlines()\n",
    "                commit = lastestCommit(blames)\n",
    "                commitsFound += [commit]*aLength\n",
    "    VCC = max(set(commitsFound), key=commitsFound.count)\n",
    "    return VCC"
   ]
  },
  {
   "cell_type": "markdown",
   "metadata": {},
   "source": [
    "## Case 1 CVE-2015-5174"
   ]
  },
  {
   "cell_type": "code",
   "execution_count": 44,
   "metadata": {},
   "outputs": [
    {
     "name": "stdout",
     "output_type": "stream",
     "text": [
      "\n",
      "Case 1 repository: https://github.com/apache/tomcat80, commit: 2fc9d03ffbc3fe7eabfd272380807ac0ddcf748d\n",
      "\n",
      "VCC is  d0e4c578f6\n"
     ]
    }
   ],
   "source": [
    "remote_link = \"https://github.com/apache/tomcat80\"\n",
    "local_link = \"~/Documents/tomcat80\"\n",
    "if not os.path.isdir(local_link):\n",
    "    Repo.clone_from(remote_link, local_link, progress = Progress())\n",
    "fixing_commit = \"2fc9d03ffbc3fe7eabfd272380807ac0ddcf748d\"\n",
    "vcc = find_vcc(local_link, fixing_commit)\n",
    "print(\"\\nCase 1 repository: %s, commit: %s\" % (remote_link, fixing_commit))\n",
    "print(\"\\nVCC is \", vcc)"
   ]
  },
  {
   "cell_type": "markdown",
   "metadata": {},
   "source": [
    "## Case 2 CVE-2018-1325"
   ]
  },
  {
   "cell_type": "code",
   "execution_count": 45,
   "metadata": {},
   "outputs": [
    {
     "name": "stdout",
     "output_type": "stream",
     "text": [
      "\n",
      "Case 2 repository: https://github.com/sebfz1/wicket-jquery-ui, commit: 2fec03dbe2f6e8808f4bdc6b3195dff3e44f520\n",
      "\n",
      "VCC is  a7b9f7961e\n"
     ]
    }
   ],
   "source": [
    "remote_link = \"https://github.com/sebfz1/wicket-jquery-ui\"\n",
    "local_link = \"~/Documents/wicket-jquery-ui\"\n",
    "if not os.path.isdir(local_link):\n",
    "    Repo.clone_from(remote_link, local_link, progress = Progress())\n",
    "fixing_commit = \"2fec03dbe2f6e8808f4bdc6b3195dff3e44f520\"\n",
    "vcc = find_vcc(local_link, fixing_commit)\n",
    "print(\"\\nCase 2 repository: %s, commit: %s\" % (remote_link, fixing_commit))\n",
    "print(\"\\nVCC is \", vcc)"
   ]
  },
  {
   "cell_type": "markdown",
   "metadata": {},
   "source": [
    "## Case 3 CVE-2013-7251"
   ]
  },
  {
   "cell_type": "code",
   "execution_count": 46,
   "metadata": {},
   "outputs": [
    {
     "name": "stdout",
     "output_type": "stream",
     "text": [
      "\n",
      "Case 3 repository: https://github.com/micromata/projectforge-webapp, commit: 422de35e3c3141e418a73bfb39b430d5fd74077e\n",
      "\n",
      "VCC is  96ca7e5ac0\n"
     ]
    }
   ],
   "source": [
    "remote_link = \"https://github.com/micromata/projectforge-webapp\"\n",
    "local_link = \"~/Documents/projectforge-webapp\"\n",
    "if not os.path.isdir(local_link):\n",
    "    Repo.clone_from(remote_link, local_link, progress = Progress())\n",
    "fixing_commit= \"422de35e3c3141e418a73bfb39b430d5fd74077e\"\n",
    "vcc = find_vcc(local_link, fixing_commit)\n",
    "print(\"\\nCase 3 repository: %s, commit: %s\" % (remote_link, fixing_commit))\n",
    "print(\"\\nVCC is \", vcc)"
   ]
  },
  {
   "cell_type": "code",
   "execution_count": null,
   "metadata": {},
   "outputs": [],
   "source": []
  }
 ],
 "metadata": {
  "kernelspec": {
   "display_name": "Python 3",
   "language": "python",
   "name": "python3"
  },
  "language_info": {
   "codemirror_mode": {
    "name": "ipython",
    "version": 3
   },
   "file_extension": ".py",
   "mimetype": "text/x-python",
   "name": "python",
   "nbconvert_exporter": "python",
   "pygments_lexer": "ipython3",
   "version": "3.7.3"
  }
 },
 "nbformat": 4,
 "nbformat_minor": 2
}
